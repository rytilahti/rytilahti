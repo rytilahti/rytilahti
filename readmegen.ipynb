{
 "cells": [
  {
   "cell_type": "code",
   "execution_count": 1,
   "id": "photographic-titanium",
   "metadata": {
    "ExecuteTime": {
     "end_time": "2021-05-09T21:32:35.517571Z",
     "start_time": "2021-05-09T21:32:35.419551Z"
    }
   },
   "outputs": [],
   "source": [
    "import asyncio\n",
    "import string\n",
    "from gql import Client, gql\n",
    "from gql.transport.aiohttp import AIOHTTPTransport\n",
    "from datetime import datetime, timedelta\n",
    "from pprint import pprint as pp, pformat as pf\n",
    "import os\n",
    "import sys\n",
    "import logging\n",
    "\n",
    "try:\n",
    "    TOKEN = os.environ[\"TOKEN\"]\n",
    "except:\n",
    "    with open(\".token\") as f:\n",
    "        TOKEN = f.read().strip()\n",
    "\n",
    "SUMMARIZE_AFTER_COUNT = 5\n",
    "DATE_FORMAT = \"%d %B, %Y\""
   ]
  },
  {
   "cell_type": "code",
   "execution_count": 2,
   "id": "technological-accent",
   "metadata": {
    "ExecuteTime": {
     "end_time": "2021-05-09T21:32:35.525089Z",
     "start_time": "2021-05-09T21:32:35.518753Z"
    }
   },
   "outputs": [],
   "source": [
    "async def fetch_data(query):\n",
    "    transport = AIOHTTPTransport(\n",
    "        url=\"https://api.github.com/graphql\",\n",
    "        headers={\"Authorization\": f\"bearer {TOKEN}\"},\n",
    "    )\n",
    "\n",
    "    async with Client(\n",
    "        transport=transport,\n",
    "        fetch_schema_from_transport=True,\n",
    "    ) as session:\n",
    "        query = gql(query)\n",
    "\n",
    "        result = await session.execute(query)\n",
    "        # logging.debug(\"Got query response: %s\", pf(result))\n",
    "        return result\n",
    "\n",
    "\n",
    "def pretty_project(project):\n",
    "    return f'[{project[\"nameWithOwner\"]} – {project[\"description\"]}]({project[\"url\"]}) ({project[\"stargazerCount\"]:,} ⭐️, {project[\"forkCount\"]:,} 🍴)'\n",
    "\n",
    "\n",
    "def get_contributions_list(\n",
    "    contributions, count=SUMMARIZE_AFTER_COUNT, contribution_type=\"contributions\"\n",
    "):\n",
    "    output = \"\"\n",
    "    logging.info(\"Found %s contributions of type '%s'\", len(contributions), contribution_type)\n",
    "    for idx, contribution in enumerate(contributions):\n",
    "        project = contribution[\"repository\"]\n",
    "        if idx == count:\n",
    "            output += \"\\n<details><summary>Show more</summary><p>\\n\\n\"\n",
    "        output += f'* {contribution[\"contributions\"][\"totalCount\"]} {contribution_type} to {pretty_project(project)}\\n'\n",
    "\n",
    "    if idx > count:\n",
    "        output += \"</p></details>\"\n",
    "\n",
    "    return output\n",
    "\n",
    "\n",
    "def get_repos(userdata, count=SUMMARIZE_AFTER_COUNT):\n",
    "    output = \"\"\n",
    "    idx = 0\n",
    "    logging.info(\"Found %s repositories\", len(userdata[\"repositories\"][\"nodes\"]))\n",
    "    for project in userdata[\"repositories\"][\"nodes\"]:\n",
    "        if project[\"nameWithOwner\"] == \"rytilahti/rytilahti\":  # skip myself\n",
    "            continue\n",
    "        if idx == count:\n",
    "            output += \"\\n<details><summary>Show more</summary><p>\\n\\n\"\n",
    "        output += f\"{idx+1}. {pretty_project(project)}\\n\"\n",
    "        idx += 1\n",
    "\n",
    "    if not output:\n",
    "        print(userdata[\"repositories\"][\"nodes\"])\n",
    "        logging.error(userdata[\"repositories\"][\"nodes\"])\n",
    "        #raise Exception(\"Unable to download repo information\")\n",
    "        \n",
    "    output += \"</p></details>\"\n",
    "\n",
    "    return output\n",
    "\n",
    "\n",
    "def pretty_count(user, var):\n",
    "    count = user[var][\"totalCount\"]\n",
    "    return f\"{count:,}\""
   ]
  },
  {
   "cell_type": "code",
   "execution_count": 3,
   "id": "stone-israeli",
   "metadata": {
    "ExecuteTime": {
     "end_time": "2021-05-09T21:32:41.566803Z",
     "start_time": "2021-05-09T21:32:35.526540Z"
    }
   },
   "outputs": [],
   "source": [
    "with open(\"github_query.graphql\") as f:\n",
    "    q = f.read()\n",
    "    data = await fetch_data(q)\n",
    "\n",
    "userdata = data[\"user\"]\n",
    "logging.debug(\"Userdata: %s\" % pf(userdata))\n",
    "debug = data"
   ]
  },
  {
   "cell_type": "code",
   "execution_count": 4,
   "id": "canadian-pocket",
   "metadata": {
    "ExecuteTime": {
     "end_time": "2021-05-09T21:32:41.581216Z",
     "start_time": "2021-05-09T21:32:41.571325Z"
    }
   },
   "outputs": [],
   "source": [
    "# prepare  respos, contributions & stats\n",
    "contrs = userdata[\"contributionsCollection\"]\n",
    "\n",
    "repos = get_repos(userdata)\n",
    "\n",
    "pull_request_stats = get_contributions_list(\n",
    "    contrs[\"pullRequestContributionsByRepository\"], contribution_type=\"pull requests\"\n",
    ")\n",
    "code_review_stats = get_contributions_list(\n",
    "    contrs[\"pullRequestReviewContributionsByRepository\"], contribution_type=\"reviews\"\n",
    ")\n",
    "\n",
    "from_date = datetime.strptime(contrs[\"startedAt\"], \"%Y-%m-%dT%H:%M:%S%z\")\n",
    "days_since = int(\n",
    "    ((datetime.utcnow() - from_date.replace(tzinfo=None)) / timedelta(days=1))\n",
    ")"
   ]
  },
  {
   "cell_type": "code",
   "execution_count": 5,
   "id": "ordered-witch",
   "metadata": {
    "ExecuteTime": {
     "end_time": "2021-05-09T21:32:41.589447Z",
     "start_time": "2021-05-09T21:32:41.583400Z"
    }
   },
   "outputs": [],
   "source": [
    "member_since = datetime.strptime(userdata[\"createdAt\"], \"%Y-%m-%dT%H:%M:%S%z\")\n",
    "stats = f\"\"\"\n",
    "According to GitHub, I have submitted {pretty_count(userdata, \"issues\")} issues, {pretty_count(userdata, \"pullRequests\")} pull requests,\n",
    "and also written {pretty_count(userdata, \"issueComments\")} issue comments here since {member_since.strftime(\"%Y\")}.\n",
    "\"\"\""
   ]
  },
  {
   "cell_type": "code",
   "execution_count": 7,
   "id": "civic-diary",
   "metadata": {
    "ExecuteTime": {
     "end_time": "2021-05-09T21:33:50.414028Z",
     "start_time": "2021-05-09T21:33:50.397030Z"
    }
   },
   "outputs": [],
   "source": [
    "content = f\"\"\"\n",
    "<!-- {debug} -->\n",
    "### Hello! Hallo! Moi! 👋\n",
    "\n",
    "I am Teemu from 🇫🇮 and I live in 🇩🇪, happy to see you here!\n",
    "\n",
    "On this profile page, I present you some ([automatically generated](https://github.com/rytilahti/rytilahti)) information about my public contributions here on GitHub, \n",
    "mostly on projects related to home automation.\n",
    "{stats}\n",
    "\n",
    "### My projects\n",
    "\n",
    "GitHub says that I am currently a maintainer or a collaborator in the following projects:\n",
    "\n",
    "{repos}\n",
    "\n",
    "### Recent contributions\n",
    "\n",
    "In the past {days_since} days (since {from_date.strftime(DATE_FORMAT)}), I have submitted {contrs[\"totalPullRequestContributions\"]} pull requests on {contrs[\"totalRepositoriesWithContributedCommits\"]} different repositories, including:\n",
    "{pull_request_stats}\n",
    "\n",
    "\n",
    "### Reviews\n",
    "\n",
    "Besides contributing pull requests, I also try to help others by doing code reviews.\n",
    "During the previously mentioned time period, I have submitted {contrs[\"totalPullRequestReviewContributions\"]} reviews to pull requests on {contrs[\"totalRepositoriesWithContributedPullRequests\"]} different repositories, including:\n",
    "{code_review_stats}\n",
    "\n",
    "(Generated on {datetime.utcnow().strftime(DATE_FORMAT)})\n",
    "\"\"\"\n",
    "\n",
    "# from IPython.display import display, Markdown\n",
    "# display(Markdown(content))\n",
    "with open(\"README.md\", \"w\") as f:\n",
    "    f.write(content)"
   ]
  }
 ],
 "metadata": {
  "hide_input": false,
  "kernelspec": {
   "display_name": "Python 3",
   "language": "python",
   "name": "python3"
  },
  "language_info": {
   "codemirror_mode": {
    "name": "ipython",
    "version": 3
   },
   "file_extension": ".py",
   "mimetype": "text/x-python",
   "name": "python",
   "nbconvert_exporter": "python",
   "pygments_lexer": "ipython3",
   "version": "3.9.4"
  },
  "latex_envs": {
   "LaTeX_envs_menu_present": true,
   "autoclose": false,
   "autocomplete": true,
   "bibliofile": "biblio.bib",
   "cite_by": "apalike",
   "current_citInitial": 1,
   "eqLabelWithNumbers": true,
   "eqNumInitial": 1,
   "hotkeys": {
    "equation": "Ctrl-E",
    "itemize": "Ctrl-I"
   },
   "labels_anchors": false,
   "latex_user_defs": false,
   "report_style_numbering": false,
   "user_envs_cfg": false
  }
 },
 "nbformat": 4,
 "nbformat_minor": 5
}
